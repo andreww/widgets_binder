{
 "cells": [
  {
   "cell_type": "markdown",
   "metadata": {},
   "source": [
    "# Widgets for fun (but no profit)\n",
    "\n",
    "A quick experiment using ipywidgets to see if interactive matplotlib graphs in notebooks\n",
    "could be useful, and to see if they can run in a Binder instance.\n",
    "\n",
    "This is taken from a few sources but is mostly based on http://kapernikov.com/ipywidgets-with-matplotlib\n",
    "for the basic interactive plot and https://pbpython.com/interactive-dashboards.html to get in on binder.\n",
    "Widgets documentation is at https://ipywidgets.readthedocs.io\n",
    "\n",
    "Also useful: https://github.com/matplotlib/ipympl/blob/master/examples/ipympl.ipynb (you need ipympl installed)"
   ]
  },
  {
   "cell_type": "code",
   "execution_count": null,
   "metadata": {},
   "outputs": [],
   "source": [
    "# We need to import some modules. Nothing very exciting\n",
    "import numpy as np\n",
    "import matplotlib.pyplot as plt\n",
    "import ipywidgets as widgets\n",
    "%matplotlib widget"
   ]
  },
  {
   "cell_type": "markdown",
   "metadata": {},
   "source": [
    "###  A simple Sine graph\n",
    "\n",
    "This function (which gets called at the end) sets up a matplotlib graph\n",
    "and makes it interactive. It's about as simple as it gets. The `@widgets`\n",
    "decorator sets the controls for the plot (and the type of control is \n",
    "chosen from the types of the arguments, which map to the arguments of the\n",
    "function that gets called."
   ]
  },
  {
   "cell_type": "code",
   "execution_count": null,
   "metadata": {},
   "outputs": [],
   "source": [
    "def interactive_sine_plot():\n",
    "    \"\"\"\n",
    "    Create an interactive sine plot using ipwidgets and matplotlib\n",
    "    \"\"\"\n",
    "    fig, ax = plt.subplots()\n",
    "    ax.set_ylim(-4, 4)\n",
    "    ax.grid(True)\n",
    "    \n",
    "    x = np.linspace(0, 2.0 * np.pi, 100)\n",
    "    \n",
    "    def make_sine(z, freq, amp, phase):\n",
    "        return amp * np.sin(freq * (x - phase))\n",
    "    \n",
    "    @widgets.interact(freq=(0, 10, 0.1), amp=(0, 4, 0.1), phase=(0, 2.0*np.pi+0.01, 0.01))\n",
    "    def update_plot(freq=1.0, amp=1.0, phase=0.0):\n",
    "        [l.remove() for l in ax.lines]\n",
    "        ax.plot(x, make_sine(x, freq, amp, phase), 'b-')\n",
    "    \n",
    "    fig.canvas.toolbar_visible = True # Set to False to remove options on LHS\n",
    "    fig.canvas.header_visible = False # Hide the Figure name at the top of the figure\n",
    "    \n",
    "    ax.set_xlabel('$x$')\n",
    "    ax.set_ylabel('$A * \\sin(\\omega(x-\\phi)$')\n",
    "    \n",
    "    \n",
    "    plt.show()\n",
    "interactive_sine_plot()"
   ]
  },
  {
   "cell_type": "code",
   "execution_count": null,
   "metadata": {},
   "outputs": [],
   "source": []
  }
 ],
 "metadata": {
  "kernelspec": {
   "display_name": "Python 3",
   "language": "python",
   "name": "python3"
  },
  "language_info": {
   "codemirror_mode": {
    "name": "ipython",
    "version": 3
   },
   "file_extension": ".py",
   "mimetype": "text/x-python",
   "name": "python",
   "nbconvert_exporter": "python",
   "pygments_lexer": "ipython3",
   "version": "3.8.5"
  }
 },
 "nbformat": 4,
 "nbformat_minor": 2
}
